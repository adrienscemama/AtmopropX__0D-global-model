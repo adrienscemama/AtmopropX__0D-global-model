{
 "cells": [
  {
   "cell_type": "code",
   "execution_count": 1,
   "metadata": {},
   "outputs": [],
   "source": [
    "import pandas as pd\n",
    "import json\n",
    "\n",
    "# Load the JSON data\n",
    "with open('../logs/all_reactions.json', 'r') as f:\n",
    "    data = json.load(f)\n",
    "\n",
    "# Convert the JSON data into a pandas DataFrame\n",
    "df = pd.DataFrame(data)"
   ]
  },
  {
   "cell_type": "code",
   "execution_count": 2,
   "metadata": {},
   "outputs": [
    {
     "data": {
      "text/plain": [
       "-0.05172774748856899"
      ]
     },
     "execution_count": 2,
     "metadata": {},
     "output_type": "execute_result"
    }
   ],
   "source": [
    "-1293193.6872142246*4e-8"
   ]
  },
  {
   "cell_type": "code",
   "execution_count": 4,
   "metadata": {},
   "outputs": [],
   "source": [
    "import pandas as pd\n",
    "import json\n",
    "\n",
    "# Load the JSON data\n",
    "with open('../logs/all_reactions.json', 'r') as f:\n",
    "    data2 = json.load(f)\n",
    "\n",
    "# Convert the JSON data into a pandas DataFrame\n",
    "df2 = pd.DataFrame(data2)"
   ]
  },
  {
   "cell_type": "code",
   "execution_count": 5,
   "metadata": {},
   "outputs": [
    {
     "data": {
      "text/plain": [
       "Index(['density_change_flux_to_walls_and_through_grids0',\n",
       "       'density_change_flux_to_walls_and_through_grids1',\n",
       "       'density_change_flux_to_walls_and_through_grids2',\n",
       "       'energy_change_flux_to_walls_and_through_grids0',\n",
       "       'energy_change_flux_to_walls_and_through_grids1',\n",
       "       'energy_change_flux_to_walls_and_through_grids2',\n",
       "       'density_change_gas_injection0', 'density_change_gas_injection1',\n",
       "       'density_change_gas_injection2', 'energy_change_gas_injection0',\n",
       "       'energy_change_gas_injection1', 'energy_change_gas_injection2', 'Kiz',\n",
       "       'reaction_speed', 'density_change_ionisation0',\n",
       "       'density_change_ionisation1', 'density_change_ionisation2',\n",
       "       'energy_change_ionisation0', 'energy_change_ionisation1',\n",
       "       'energy_change_ionisation2', 'energy_change_excitation0',\n",
       "       'energy_change_excitation1', 'energy_change_excitation2',\n",
       "       'energy_change_elastic_collision', 'dy_energy_0_before_heating',\n",
       "       'dy_energy_1_before_heating', 'dy_energy_2_before_heating',\n",
       "       'dy_energy_0_atom', 'dy_energy_1_atom', 'dy_energy_2_atom', 'time',\n",
       "       'e_density', 'Xe_density', 'Xe+_density', 'temperature_0_atom',\n",
       "       'temperature_1_atom', 'temperature_2_atom', 'dy_e_density',\n",
       "       'dy_Xe_density', 'dy_Xe+_density', 'dy_temperature_0_atom',\n",
       "       'dy_temperature_1_atom', 'dy_temperature_2_atom', 'energy_0_atom',\n",
       "       'energy_1_atom', 'energy_2_atom', 'h_L', 'h_R'],\n",
       "      dtype='object')"
      ]
     },
     "execution_count": 5,
     "metadata": {},
     "output_type": "execute_result"
    }
   ],
   "source": [
    "df2.columns"
   ]
  },
  {
   "cell_type": "code",
   "execution_count": 16,
   "metadata": {},
   "outputs": [
    {
     "data": {
      "text/plain": [
       "1.3041808783936323e+52"
      ]
     },
     "execution_count": 16,
     "metadata": {},
     "output_type": "execute_result"
    }
   ],
   "source": [
    "import numpy as np\n",
    "np.exp(12/1e-1)"
   ]
  },
  {
   "cell_type": "code",
   "execution_count": 19,
   "metadata": {},
   "outputs": [
    {
     "data": {
      "text/plain": [
       "1.8486377481938315e-67"
      ]
     },
     "execution_count": 19,
     "metadata": {},
     "output_type": "execute_result"
    }
   ],
   "source": [
    "T_e = 1e-1\n",
    "6.73e-15 * (T_e)**0.5 * (3.97+0.643*T_e - 0.0368 * T_e**2) * np.exp(- 12.127/T_e)"
   ]
  },
  {
   "cell_type": "code",
   "execution_count": 60,
   "metadata": {},
   "outputs": [
    {
     "name": "stderr",
     "output_type": "stream",
     "text": [
      "D:\\Users\\Charlelie\\AppData\\Local\\Temp\\ipykernel_13668\\1845226943.py:56: FutureWarning:\n",
      "\n",
      "DataFrame.applymap has been deprecated. Use DataFrame.map instead.\n",
      "\n"
     ]
    }
   ],
   "source": [
    "import pandas as pd\n",
    "import json\n",
    "\n",
    "# Load the JSON data\n",
    "with open('../logs/all_reactions.json', 'r') as f:\n",
    "    data2 = json.load(f)\n",
    "\n",
    "# Convert the JSON data into a pandas DataFrame\n",
    "df2 = pd.DataFrame(data2)\n",
    "# Loaded variable 'df2' from kernel state\n",
    "\n",
    "# Drop specified columns\n",
    "df2 = df2.drop(columns=[\n",
    "    'energy_change_flux_to_walls_and_through_grids2', \n",
    "    'density_change_gas_injection2', \n",
    "    'density_change_gas_injection0', \n",
    "    'density_change_gas_injection1', \n",
    "    'energy_change_gas_injection2', \n",
    "    'Kiz', \n",
    "    'Kexc',\n",
    "    'reaction_speed', \n",
    "    'energy_change_ionisation2', \n",
    "    'dy_energy_2_before_heating', \n",
    "    'dy_energy_1_before_heating', \n",
    "    'dy_energy_0_before_heating', \n",
    "    'dy_energy_2_atom', \n",
    "    'temperature_2_atom'\n",
    "])\n",
    "# Move 'time' column to the first position\n",
    "columns = ['time'] + [col for col in df2.columns if col != 'time']\n",
    "df2 = df2[columns]\n",
    "# Reorder columns: time, densities, temperatures, then the rest\n",
    "density_columns = [\"e_density\", \"Xe_density\", \"Xe+_density\"]\n",
    "temperature_columns = [\"temperature_0_atom\", \"temperature_1_atom\"]\n",
    "remaining_columns = [col for col in df2.columns if col not in [\"time\"] + density_columns + temperature_columns]\n",
    "df2 = df2[[\"time\"] + density_columns + temperature_columns + remaining_columns]\n",
    "# Set scientific notation for all columns\n",
    "pd.options.display.float_format = '{:.2e}'.format\n",
    "# Reorder columns: time, densities, temperatures, energy_atom, dy_energy, and the rest\n",
    "time_and_density_columns = [\"time\", \"e_density\", \"Xe_density\", \"Xe+_density\"]\n",
    "energy_atom_columns = [\"energy_0_atom\", \"energy_1_atom\", \"energy_2_atom\"]\n",
    "dy_energy_columns = [\"dy_energy_0_atom\", \"dy_energy_1_atom\"]\n",
    "other_columns = [col for col in df2.columns if col not in time_and_density_columns + temperature_columns + energy_atom_columns + dy_energy_columns]\n",
    "new_column_order = time_and_density_columns + temperature_columns + energy_atom_columns + dy_energy_columns + other_columns\n",
    "df2 = df2[new_column_order]\n",
    "# Calculate 'temperature_0_integrated' using time difference and dy_temperature_0_atom\n",
    "df2['temperature_0_integrated'] = df2['temperature_0_atom'] + (df2['time'].diff().fillna(0) * df2['dy_temperature_0_atom'])\n",
    "\n",
    "# Drop column: 'energy_change_gas_injection0'\n",
    "df2 = df2.drop(columns=['energy_change_gas_injection0'])\n",
    "\n",
    "# Move 'energy_change' and '0' columns to the end\n",
    "columns_to_move = [col for col in df2.columns if 'energy_change' in col and '0' in col]\n",
    "remaining_columns = [col for col in df2.columns if col not in columns_to_move]\n",
    "df2 = df2[remaining_columns + columns_to_move]\n",
    "df2 = df2.applymap(lambda x: f\"{x:.5e}\" if isinstance(x, (int, float)) else x)"
   ]
  },
  {
   "cell_type": "code",
   "execution_count": null,
   "metadata": {},
   "outputs": [],
   "source": []
  },
  {
   "cell_type": "code",
   "execution_count": 30,
   "metadata": {},
   "outputs": [
    {
     "data": {
      "text/plain": [
       "1.2589254117941673"
      ]
     },
     "execution_count": 30,
     "metadata": {},
     "output_type": "execute_result"
    }
   ],
   "source": [
    "T_e = np.logspace(1e-1, 10, num = 50)\n",
    "a = -0.0001031*T_e**2 + 6.386 * np.exp(- 12.127/T_e)\n",
    "idx = np.argmax(a>=0)\n",
    "T_e[idx]"
   ]
  },
  {
   "cell_type": "code",
   "execution_count": 47,
   "metadata": {},
   "outputs": [
    {
     "name": "stdout",
     "output_type": "stream",
     "text": [
      "1.1394525838852464e-15 1.2960813001901537e-15\n"
     ]
    },
    {
     "data": {
      "text/plain": [
       "2.4355338840754002e-15"
      ]
     },
     "execution_count": 47,
     "metadata": {},
     "output_type": "execute_result"
    }
   ],
   "source": [
    "T_e = 3\n",
    "K_iz_1 = 6.73e-15 * (T_e)**0.5 * (3.97+0.643*T_e - 0.0368 * T_e**2) * np.exp(- 12.127/T_e)\n",
    "K_iz_2 = 6.73e-15 * (T_e)**0.5 * (-0.0001031*T_e**2 + 6.386 * np.exp(- 12.127/T_e))\n",
    "print(K_iz_1, K_iz_2)\n",
    "(K_iz_1 + K_iz_2)"
   ]
  },
  {
   "cell_type": "code",
   "execution_count": 39,
   "metadata": {},
   "outputs": [
    {
     "data": {
      "text/plain": [
       "0.169309447828417"
      ]
     },
     "execution_count": 39,
     "metadata": {},
     "output_type": "execute_result"
    }
   ],
   "source": [
    "(T_e)**0.5 * (3.97+0.643*T_e - 0.0368 * T_e**2) * np.exp(- 12.127/T_e)"
   ]
  },
  {
   "cell_type": "code",
   "execution_count": 48,
   "metadata": {},
   "outputs": [
    {
     "name": "stdout",
     "output_type": "stream",
     "text": [
      "Line 1: Expecting property name enclosed in double quotes: line 2 column 1 (char 2)\n"
     ]
    }
   ],
   "source": [
    "import json\n",
    "\n",
    "with open('../logs/all_reactions_LSODA_far_from_eq.json') as f:\n",
    "    for i, line in enumerate(f, start=1):\n",
    "        try:\n",
    "            json.loads(line)\n",
    "        except json.JSONDecodeError as e:\n",
    "            print(f\"Line {i}: {e}\")\n",
    "            break"
   ]
  },
  {
   "cell_type": "code",
   "execution_count": 50,
   "metadata": {},
   "outputs": [],
   "source": [
    "import pandas as pd\n",
    "import json\n",
    "\n",
    "# Load the JSON data\n",
    "with open('../logs/all_reactions_LSODA_far_from_eq.json', 'r') as f:\n",
    "    data2 = json.load(f)"
   ]
  },
  {
   "cell_type": "code",
   "execution_count": 10,
   "metadata": {},
   "outputs": [
    {
     "data": {
      "application/vnd.jupyter.widget-view+json": {
       "model_id": "658ff2c808094c58b7806fbb23ac1f94",
       "version_major": 2,
       "version_minor": 0
      },
      "text/plain": [
       "VBox(children=(Checkbox(value=True, description='Show Cross Markers', indent=False), HBox(children=(VBox(child…"
      ]
     },
     "execution_count": 10,
     "metadata": {},
     "output_type": "execute_result"
    }
   ],
   "source": [
    "import json\n",
    "import pandas as pd\n",
    "import numpy as np\n",
    "import plotly.graph_objects as go\n",
    "import ipywidgets as widgets\n",
    "\n",
    "# Load and preprocess data\n",
    "with open('../logs/all_reactions.json', \"r\") as f:\n",
    "    data = json.load(f)\n",
    "\n",
    "df = pd.DataFrame(data)\n",
    "df['time'] = pd.to_numeric(df['time'], errors='coerce')\n",
    "df.dropna(subset=['time'], inplace=True)\n",
    "df_sorted = df.sort_values('time').reset_index(drop=True)\n",
    "\n",
    "all_vars = sorted([col for col in df_sorted.columns if col != \"time\"])\n",
    "\n",
    "# Convert to numpy arrays\n",
    "time_array = df_sorted['time'].values\n",
    "data_arrays = {col: df_sorted[col].values for col in all_vars}\n",
    "\n",
    "# Widgets\n",
    "left_checkboxes = [widgets.Checkbox(value=False, description=var) for var in all_vars]\n",
    "right_checkboxes = [widgets.Checkbox(value=False, description=var) for var in all_vars]\n",
    "\n",
    "left_box = widgets.VBox(left_checkboxes, layout=widgets.Layout(\n",
    "    width='220px',\n",
    "    overflow_x='auto',\n",
    "    overflow_y='auto',\n",
    "    max_height='600px'\n",
    "\n",
    "))\n",
    "\n",
    "right_box = widgets.VBox(right_checkboxes, layout=widgets.Layout(\n",
    "    width='220px',\n",
    "    overflow_x='auto',\n",
    "    overflow_y='auto',\n",
    "    max_height='600px'\n",
    "\n",
    "))\n",
    "\n",
    "dt = time_array.max() - time_array.min()\n",
    "time_min, time_max = time_array.min() - 0.05*dt, time_array.max() + 0.05*dt\n",
    "x_range_slider = widgets.FloatRangeSlider(\n",
    "    value=[time_min, time_max],\n",
    "    min=time_min,\n",
    "    max=time_max,\n",
    "    step=(time_max - time_min) / 500,\n",
    "    description='Time Range:',\n",
    "    continuous_update=False,\n",
    "    layout=widgets.Layout(width='80%')\n",
    ")\n",
    "\n",
    "show_markers_checkbox = widgets.Checkbox(\n",
    "    value=True,\n",
    "    description='Show Cross Markers',\n",
    "    indent=False\n",
    ")\n",
    "\n",
    "# Setup Plotly figure\n",
    "fig = go.FigureWidget()\n",
    "fig.update_layout(\n",
    "    xaxis_title='Time',\n",
    "    yaxis=dict(title='Left Y-Axis'),\n",
    "    yaxis2=dict(title='Right Y-Axis', overlaying='y', side='right'),\n",
    "    height=800,\n",
    "    width= 800\n",
    ")\n",
    "fig.update_layout(\n",
    "    legend=dict(\n",
    "        orientation='h',\n",
    "        yanchor='bottom',\n",
    "        y=-0.3,  # Moves the legend below the plot\n",
    "        xanchor='center',\n",
    "        x=0.5\n",
    "    )\n",
    ")\n",
    "fig.update_layout(xaxis_range=[time_min, time_max])\n",
    "\n",
    "\n",
    "# Update function\n",
    "def update_plot(*args):\n",
    "    # Capture the current x-axis range before updating\n",
    "    x_min, x_max = fig.layout.xaxis.range\n",
    "    \n",
    "    mask = (time_array >= x_min) & (time_array <= x_max)\n",
    "    fig.data = []\n",
    "\n",
    "    marker_mode = 'lines+markers' if show_markers_checkbox.value else 'lines'\n",
    "\n",
    "    for cb in left_checkboxes:\n",
    "        if cb.value:\n",
    "            x_raw = time_array[mask]\n",
    "            y_raw = data_arrays[cb.description][mask]\n",
    "            x, y = x_raw, y_raw\n",
    "            fig.add_trace(go.Scattergl(\n",
    "                x=x, y=y,\n",
    "                mode=marker_mode,\n",
    "                name=cb.description,\n",
    "                yaxis='y',\n",
    "                marker=dict(symbol='x', size=5)\n",
    "            ))\n",
    "\n",
    "    for cb in right_checkboxes:\n",
    "        if cb.value:\n",
    "            x_raw = time_array[mask]\n",
    "            y_raw = data_arrays[cb.description][mask]\n",
    "            x, y = x_raw, y_raw\n",
    "            fig.add_trace(go.Scattergl(\n",
    "                x=x, y=y,\n",
    "                mode=marker_mode,\n",
    "                name=cb.description,\n",
    "                yaxis='y2',\n",
    "                marker=dict(symbol='x', size=5)\n",
    "            ))\n",
    "\n",
    "    # Reapply the zoom (x-axis range) after adding traces\n",
    "    fig.update_layout(xaxis_range=[x_min, x_max])\n",
    "\n",
    "# Attach observers\n",
    "for cb in left_checkboxes + right_checkboxes:\n",
    "    cb.observe(update_plot, 'value')\n",
    "show_markers_checkbox.observe(update_plot, 'value')\n",
    "\n",
    "# Initial plot\n",
    "update_plot()\n",
    "\n",
    "# Layout\n",
    "ui = widgets.VBox([\n",
    "    show_markers_checkbox,\n",
    "    widgets.HBox([left_box, fig, right_box])\n",
    "])\n",
    "\n",
    "ui\n"
   ]
  },
  {
   "cell_type": "code",
   "execution_count": 55,
   "metadata": {},
   "outputs": [
    {
     "name": "stderr",
     "output_type": "stream",
     "text": [
      "usage: jupyter [-h] [--version] [--config-dir] [--data-dir] [--runtime-dir]\n",
      "               [--paths] [--json] [--debug]\n",
      "               [subcommand]\n",
      "\n",
      "Jupyter: Interactive Computing\n",
      "\n",
      "positional arguments:\n",
      "  subcommand     the subcommand to launch\n",
      "\n",
      "options:\n",
      "  -h, --help     show this help message and exit\n",
      "  --version      show the versions of core jupyter packages and exit\n",
      "  --config-dir   show Jupyter config dir\n",
      "  --data-dir     show Jupyter data dir\n",
      "  --runtime-dir  show Jupyter runtime dir\n",
      "  --paths        show all Jupyter paths. Add --json for machine-readable\n",
      "                 format.\n",
      "  --json         output paths as machine-readable json\n",
      "  --debug        output debug information about paths\n",
      "\n",
      "Available subcommands: console dejavu events execute kernel kernelspec lab\n",
      "labextension labhub migrate nbconvert notebook qtconsole run script server\n",
      "troubleshoot trust\n",
      "\n",
      "Jupyter command `jupyter-nbextension` not found.\n"
     ]
    }
   ],
   "source": [
    "! jupyter nbextension enable --py widgetsnbextension"
   ]
  },
  {
   "cell_type": "code",
   "execution_count": null,
   "metadata": {},
   "outputs": [],
   "source": []
  }
 ],
 "metadata": {
  "kernelspec": {
   "display_name": "Python 3 (ipykernel)",
   "language": "python",
   "name": "python3"
  },
  "language_info": {
   "codemirror_mode": {
    "name": "ipython",
    "version": 3
   },
   "file_extension": ".py",
   "mimetype": "text/x-python",
   "name": "python",
   "nbconvert_exporter": "python",
   "pygments_lexer": "ipython3",
   "version": "3.12.8"
  }
 },
 "nbformat": 4,
 "nbformat_minor": 4
}
